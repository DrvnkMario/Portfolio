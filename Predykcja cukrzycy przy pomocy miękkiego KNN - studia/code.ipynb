{
 "cells": [
  {
   "cell_type": "code",
   "execution_count": null,
   "metadata": {},
   "outputs": [],
   "source": [
    "import pandas as pd\n",
    "import numpy as np\n",
    "import seaborn as sns"
   ]
  },
  {
   "cell_type": "code",
   "execution_count": null,
   "metadata": {},
   "outputs": [],
   "source": [
    "class ProcessingData:\n",
    "    @staticmethod\n",
    "    def splitSet(x: pd.DataFrame,k: int) -> pd.DataFrame: \n",
    "        n = int(len(x)*k) \n",
    "        xTrain = x[:n] \n",
    "        xVal = x[n:] \n",
    "        return xTrain, xVal\n",
    "    \n",
    "    @staticmethod\n",
    "    def shuffle(x: pd.DataFrame) -> pd.DataFrame: \n",
    "        for i in range(len(x)-1, -1, -1):\n",
    "            j = np.random.randint(i, len(x))\n",
    "            x.iloc[i], x.iloc[j] = x.iloc[j], x.iloc[i]\n",
    "        return x\n",
    "    \n",
    "    @staticmethod\n",
    "    def normalize(x: pd.DataFrame) -> pd.DataFrame:\n",
    "        values = x.loc[:, x.columns != 'Outcome']\n",
    "        columnNames=values.columns.tolist()\n",
    "        for column in columnNames:\n",
    "            data = x.loc[:,column]\n",
    "            max1 = max(data)\n",
    "            min1 = min(data)\n",
    "            for row in range(0,len(x),1):\n",
    "                x.at[row,column] = (x.at[row,column]-min1)/(max1-min1)\n",
    "        return x"
   ]
  },
  {
   "cell_type": "code",
   "execution_count": null,
   "metadata": {},
   "outputs": [],
   "source": [
    "class soft_set:\n",
    "    \n",
    "    @staticmethod\n",
    "    def build_soft_set(x: pd.DataFrame) -> dict:\n",
    "        soft_set = {}\n",
    "        soft_set[0] = {}\n",
    "        soft_set[1] = {}\n",
    "        for key in soft_set:\n",
    "            data1 = x\n",
    "            data2 = x.loc[x['Outcome']==key]\n",
    "            data1 = data1.drop(['Outcome'], axis=1)\n",
    "            data2 = data2.drop(['Outcome'], axis=1)\n",
    "            for col in data1.columns:\n",
    "                mean = data1[col].mean()\n",
    "                temp1 = 0 # lower or equal to mean\n",
    "                temp2 = 0 # greater than mean\n",
    "                for val in data2[col]:\n",
    "                    if val < mean:\n",
    "                        temp1 += 1\n",
    "                    else:\n",
    "                        temp2 += 1\n",
    "                if temp1 > temp2:\n",
    "                    soft_set[key][col] = 0\n",
    "                else:\n",
    "                    soft_set[key][col] = 1\n",
    "        return soft_set\n",
    " \n",
    "    @staticmethod\n",
    "    def get_membership(soft_set: dict, vector: pd.Series) -> float:\n",
    "        vector = vector.to_dict()\n",
    "        result = dict()\n",
    "        for key in soft_set:\n",
    "            result[key] = 1\n",
    "            for key2 in soft_set[key]:\n",
    "                result[key] += soft_set[key][key2] * vector[key2]\n",
    "        return float(result[max(result, key=result.get)])"
   ]
  },
  {
   "cell_type": "code",
   "execution_count": null,
   "metadata": {},
   "outputs": [],
   "source": [
    "class soft_KNN:\n",
    "    @staticmethod\n",
    "    def calc_euclidian_distance(val1: float, val2: float) -> float:\n",
    "        return np.abs(val1-val2)\n",
    "        \n",
    "    @staticmethod\n",
    "    def clustering(x: pd.DataFrame, sample: pd.Series, k: int) -> str:\n",
    "        soft_x = soft_set.build_soft_set(x)\n",
    "        distances = []\n",
    "        for i in range(0, len(x)):\n",
    "            temp_x = soft_set.get_membership(soft_x, x.iloc[i])\n",
    "            temp_sample = soft_set.get_membership(soft_x, sample)\n",
    "            distances.append(soft_KNN.calc_euclidian_distance(temp_x, temp_sample))\n",
    "        tempdf = x.copy()\n",
    "        tempdf['distance'] = distances\n",
    "        tempdf = tempdf.sort_values(by='distance')\n",
    "        classes = {\n",
    "                   0: 0,\n",
    "                   1: 0\n",
    "                  }\n",
    "        for i in range(k):\n",
    "            classes[tempdf.iloc[i].Outcome] += 1\n",
    "        \n",
    "        return max(classes, key = classes.get)"
   ]
  },
  {
   "cell_type": "code",
   "execution_count": null,
   "metadata": {},
   "outputs": [],
   "source": [
    "# Wynik tworzenia zbioru miękkiego dla danych z bazy diabetes.csv\n",
    "example = pd.read_csv(r'diabetes\\\\diabetes.csv')\n",
    "example = ProcessingData.shuffle(example)\n",
    "example = ProcessingData.normalize(example)\n",
    "exampleT, exampleV = ProcessingData.splitSet(example, 0.7)\n",
    "soft_set_T = soft_set.build_soft_set(exampleT)\n",
    "soft_set_V = soft_set.build_soft_set(exampleV)\n",
    "print(soft_set_T)\n",
    "#print(soft_set_V)"
   ]
  },
  {
   "cell_type": "code",
   "execution_count": null,
   "metadata": {},
   "outputs": [],
   "source": [
    "arr_of_results = []\n",
    "for f in range(10):\n",
    "    diabetes = pd.read_csv(r'diabetes\\\\diabetes.csv')\n",
    "    diabetes = ProcessingData.shuffle(diabetes)\n",
    "    diabetes = ProcessingData.normalize(diabetes)\n",
    "    diabetesT, diabetesV = ProcessingData.splitSet(diabetes, 0.7)\n",
    "\n",
    "    acc = 0\n",
    "    for i in range(0, len(diabetesV)):\n",
    "        if diabetesV.iloc[i].Outcome == soft_KNN.clustering(diabetesT, diabetesV.iloc[i], int(np.sqrt(len(diabetesV)))):\n",
    "            acc += 1\n",
    "    print(f\"Accuracy {f}:\", acc/len(diabetesV)*100)\n",
    "    arr_of_results.append(acc/len(diabetesV)*100)"
   ]
  },
  {
   "cell_type": "code",
   "execution_count": null,
   "metadata": {},
   "outputs": [],
   "source": [
    "print(arr_of_results)"
   ]
  }
 ],
 "metadata": {
  "kernelspec": {
   "display_name": "Python 3",
   "language": "python",
   "name": "python3"
  },
  "language_info": {
   "codemirror_mode": {
    "name": "ipython",
    "version": 3
   },
   "file_extension": ".py",
   "mimetype": "text/x-python",
   "name": "python",
   "nbconvert_exporter": "python",
   "pygments_lexer": "ipython3",
   "version": "3.9.2"
  }
 },
 "nbformat": 4,
 "nbformat_minor": 4
}
